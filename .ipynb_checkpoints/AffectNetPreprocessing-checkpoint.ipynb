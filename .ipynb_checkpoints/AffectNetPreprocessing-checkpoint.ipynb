{
 "cells": [
  {
   "cell_type": "code",
   "execution_count": 1,
   "id": "e68e8538",
   "metadata": {},
   "outputs": [
    {
     "ename": "ModuleNotFoundError",
     "evalue": "No module named 'cv2'",
     "output_type": "error",
     "traceback": [
      "\u001b[1;31m---------------------------------------------------------------------------\u001b[0m",
      "\u001b[1;31mModuleNotFoundError\u001b[0m                       Traceback (most recent call last)",
      "Cell \u001b[1;32mIn[1], line 1\u001b[0m\n\u001b[1;32m----> 1\u001b[0m \u001b[38;5;28;01mimport\u001b[39;00m \u001b[38;5;21;01mcv2\u001b[39;00m\n\u001b[0;32m      2\u001b[0m \u001b[38;5;28;01mimport\u001b[39;00m \u001b[38;5;21;01mos\u001b[39;00m\n",
      "\u001b[1;31mModuleNotFoundError\u001b[0m: No module named 'cv2'"
     ]
    }
   ],
   "source": [
    "import cv2\n",
    "import os\n"
   ]
  },
  {
   "cell_type": "code",
   "execution_count": null,
   "id": "2fffd288",
   "metadata": {},
   "outputs": [],
   "source": [
    "pip install opencv-python"
   ]
  },
  {
   "cell_type": "code",
   "execution_count": 4,
   "id": "0589775b",
   "metadata": {},
   "outputs": [
    {
     "name": "stdout",
     "output_type": "stream",
     "text": [
      "Image processing complete.\n"
     ]
    }
   ],
   "source": [
    "\n",
    "\n",
    "# Main directory containing the dataset of images\n",
    "main_dir = r\"C:\\Users\\uSer\\Desktop\\Minor\\AffcetNet\"\n",
    "output_dir = r\"C:\\Users\\uSer\\Desktop\\Minor\\AffcetNet_processed\"\n",
    "\n",
    "# Create the output directory if it doesn't exist\n",
    "if not os.path.exists(output_dir):\n",
    "    os.makedirs(output_dir)\n",
    "\n",
    "# Loop through each directory and its subdirectories in the main directory\n",
    "for root, dirs, files in os.walk(main_dir):\n",
    "    # Check if the current directory contains image files\n",
    "    if files:\n",
    "        # Create a corresponding output directory structure in the processed directory\n",
    "        relative_dir = os.path.relpath(root, main_dir)\n",
    "        output_subdir = os.path.join(output_dir, relative_dir)\n",
    "        os.makedirs(output_subdir, exist_ok=True)\n",
    "        \n",
    "        # Loop through each image file in the current directory\n",
    "        for filename in files:\n",
    "            # Load the original image\n",
    "            img_path = os.path.join(root, filename)\n",
    "            original_img = cv2.imread(img_path)\n",
    "            \n",
    "            # Resize the image to 48x48\n",
    "            resized_img = cv2.resize(original_img, (48, 48))\n",
    "            \n",
    "            # Convert the image to grayscale\n",
    "            gray_img = cv2.cvtColor(resized_img, cv2.COLOR_BGR2GRAY)\n",
    "            \n",
    "            # Save the grayscale resized image in the corresponding output directory\n",
    "            output_path = os.path.join(output_subdir, filename)\n",
    "            cv2.imwrite(output_path, gray_img)\n",
    "\n",
    "print(\"Image processing complete.\")\n"
   ]
  },
  {
   "cell_type": "code",
   "execution_count": null,
   "id": "89a2adf1",
   "metadata": {},
   "outputs": [],
   "source": []
  }
 ],
 "metadata": {
  "kernelspec": {
   "display_name": "Python 3 (ipykernel)",
   "language": "python",
   "name": "python3"
  },
  "language_info": {
   "codemirror_mode": {
    "name": "ipython",
    "version": 3
   },
   "file_extension": ".py",
   "mimetype": "text/x-python",
   "name": "python",
   "nbconvert_exporter": "python",
   "pygments_lexer": "ipython3",
   "version": "3.10.9"
  }
 },
 "nbformat": 4,
 "nbformat_minor": 5
}
